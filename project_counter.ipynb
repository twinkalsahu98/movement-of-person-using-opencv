{
 "cells": [
  {
   "cell_type": "code",
   "execution_count": 1,
   "id": "e062e40c",
   "metadata": {},
   "outputs": [],
   "source": [
    "import cv2"
   ]
  },
  {
   "cell_type": "code",
   "execution_count": 2,
   "id": "1f6d44a9",
   "metadata": {},
   "outputs": [],
   "source": [
    "import numpy as np"
   ]
  },
  {
   "cell_type": "code",
   "execution_count": 3,
   "id": "d81e579a",
   "metadata": {},
   "outputs": [],
   "source": [
    "cap=cv2.cv2.VideoCapture('People.mp4')"
   ]
  },
  {
   "cell_type": "code",
   "execution_count": 4,
   "id": "ef8150d6",
   "metadata": {},
   "outputs": [],
   "source": [
    "ret,frame1=cap.read()\n",
    "ret,frame2=cap.read()"
   ]
  },
  {
   "cell_type": "code",
   "execution_count": 5,
   "id": "9340defd",
   "metadata": {},
   "outputs": [
    {
     "ename": "error",
     "evalue": "OpenCV(4.5.5) D:\\a\\opencv-python\\opencv-python\\opencv\\modules\\core\\src\\arithm.cpp:650: error: (-209:Sizes of input arguments do not match) The operation is neither 'array op array' (where arrays have the same size and the same number of channels), nor 'array op scalar', nor 'scalar op array' in function 'cv::arithm_op'\n",
     "output_type": "error",
     "traceback": [
      "\u001b[1;31m---------------------------------------------------------------------------\u001b[0m",
      "\u001b[1;31merror\u001b[0m                                     Traceback (most recent call last)",
      "Input \u001b[1;32mIn [5]\u001b[0m, in \u001b[0;36m<cell line: 1>\u001b[1;34m()\u001b[0m\n\u001b[0;32m      1\u001b[0m \u001b[38;5;28;01mwhile\u001b[39;00m cap\u001b[38;5;241m.\u001b[39misOpened():\n\u001b[1;32m----> 2\u001b[0m     diff\u001b[38;5;241m=\u001b[39m\u001b[43mcv2\u001b[49m\u001b[38;5;241;43m.\u001b[39;49m\u001b[43mabsdiff\u001b[49m\u001b[43m(\u001b[49m\u001b[43mframe1\u001b[49m\u001b[43m,\u001b[49m\u001b[43mframe2\u001b[49m\u001b[43m)\u001b[49m\n\u001b[0;32m      3\u001b[0m     gray\u001b[38;5;241m=\u001b[39mcv2\u001b[38;5;241m.\u001b[39mcvtColor(diff,cv2\u001b[38;5;241m.\u001b[39mCOLOR_BGR2GRAY)\n\u001b[0;32m      4\u001b[0m     blur\u001b[38;5;241m=\u001b[39mcv2\u001b[38;5;241m.\u001b[39mGaussianBlur(gray,(\u001b[38;5;241m5\u001b[39m,\u001b[38;5;241m5\u001b[39m),\u001b[38;5;241m0\u001b[39m)\n",
      "\u001b[1;31merror\u001b[0m: OpenCV(4.5.5) D:\\a\\opencv-python\\opencv-python\\opencv\\modules\\core\\src\\arithm.cpp:650: error: (-209:Sizes of input arguments do not match) The operation is neither 'array op array' (where arrays have the same size and the same number of channels), nor 'array op scalar', nor 'scalar op array' in function 'cv::arithm_op'\n"
     ]
    }
   ],
   "source": [
    "while cap.isOpened():\n",
    "    diff=cv2.absdiff(frame1,frame2)\n",
    "    gray=cv2.cvtColor(diff,cv2.COLOR_BGR2GRAY)\n",
    "    blur=cv2.GaussianBlur(gray,(5,5),0)\n",
    "    _,thresh=cv2.threshold(blur,20,255,cv2.THRESH_BINARY)\n",
    "    dilated=cv2.dilate(thresh,None,iterations=3)\n",
    "    contours,_=cv2.findContours(dilated,cv2.RETR_TREE,cv2.CHAIN_APPROX_SIMPLE)\n",
    "    for contour in contours:\n",
    "        (x,y,w,h)=cv2.boundingRect(contour)\n",
    "        if cv2.contourArea(contour)<700:\n",
    "            continue\n",
    "        cv2.rectangle(frame1,(x,y),(x+w,y+h),(0,255,0),2)\n",
    "        cv2.putText(frame1,\"Status:{}\".format('Movement'),(10,20),cv2.FONT_HERSHEY_SIMPLEX,1,(0,0,255),3)\n",
    "    #cv2.drawContours(frame1,contours,-1,(0,255,0),2)\n",
    "    cv2.imshow(\"feed\",frame1)\n",
    "    frame1=frame2\n",
    "    ret,frame2=cap.read()\n",
    "    if cv2.waitKey(40)==27:\n",
    "        break\n",
    "cv2.destroyAllWindows()\n",
    "cap.release()"
   ]
  },
  {
   "cell_type": "code",
   "execution_count": null,
   "id": "ad31733a",
   "metadata": {},
   "outputs": [],
   "source": []
  }
 ],
 "metadata": {
  "kernelspec": {
   "display_name": "Python 3 (ipykernel)",
   "language": "python",
   "name": "python3"
  },
  "language_info": {
   "codemirror_mode": {
    "name": "ipython",
    "version": 3
   },
   "file_extension": ".py",
   "mimetype": "text/x-python",
   "name": "python",
   "nbconvert_exporter": "python",
   "pygments_lexer": "ipython3",
   "version": "3.9.7"
  }
 },
 "nbformat": 4,
 "nbformat_minor": 5
}
